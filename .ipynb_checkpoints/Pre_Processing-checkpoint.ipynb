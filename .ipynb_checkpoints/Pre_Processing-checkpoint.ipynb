{
 "cells": [
  {
   "cell_type": "code",
   "execution_count": 1,
   "id": "1b6a048a",
   "metadata": {},
   "outputs": [],
   "source": [
    "from music21 import *\n",
    "import pandas as pd"
   ]
  },
  {
   "cell_type": "code",
   "execution_count": 2,
   "id": "70f7ef25",
   "metadata": {},
   "outputs": [],
   "source": [
    "song = converter.parse('../music_gen/data/midi_dataset/ABBA/Chiquitita.mid')"
   ]
  },
  {
   "cell_type": "code",
   "execution_count": 3,
   "id": "f5cc4073",
   "metadata": {},
   "outputs": [],
   "source": [
    "parts = song.parts"
   ]
  },
  {
   "cell_type": "code",
   "execution_count": 4,
   "id": "fb129414",
   "metadata": {},
   "outputs": [
    {
     "name": "stderr",
     "output_type": "stream",
     "text": [
      "/var/folders/5v/khx63py14cb1kzdxlxgh37th0000gn/T/ipykernel_5985/2953674680.py:1: StreamIteratorInefficientWarning: chordify is not defined on StreamIterators. Call .stream() first for efficiency\n",
      "  nice = parts.chordify()\n"
     ]
    },
    {
     "ename": "AttributeError",
     "evalue": "'Unpitched' object has no attribute 'pitch'",
     "output_type": "error",
     "traceback": [
      "\u001b[0;31m---------------------------------------------------------------------------\u001b[0m",
      "\u001b[0;31mAttributeError\u001b[0m                            Traceback (most recent call last)",
      "\u001b[0;32m/var/folders/5v/khx63py14cb1kzdxlxgh37th0000gn/T/ipykernel_5985/2953674680.py\u001b[0m in \u001b[0;36m<module>\u001b[0;34m\u001b[0m\n\u001b[0;32m----> 1\u001b[0;31m \u001b[0mnice\u001b[0m \u001b[0;34m=\u001b[0m \u001b[0mparts\u001b[0m\u001b[0;34m.\u001b[0m\u001b[0mchordify\u001b[0m\u001b[0;34m(\u001b[0m\u001b[0;34m)\u001b[0m\u001b[0;34m\u001b[0m\u001b[0;34m\u001b[0m\u001b[0m\n\u001b[0m",
      "\u001b[0;32m~/opt/anaconda3/lib/python3.9/site-packages/music21/stream/base.py\u001b[0m in \u001b[0;36mchordify\u001b[0;34m(self, addTies, addPartIdAsGroup, removeRedundantPitches, toSoundingPitch, copyPitches)\u001b[0m\n\u001b[1;32m   6280\u001b[0m                 \u001b[0mmeasurePart\u001b[0m \u001b[0;34m=\u001b[0m \u001b[0mworkObj\u001b[0m\u001b[0;34m.\u001b[0m\u001b[0mmeasure\u001b[0m\u001b[0;34m(\u001b[0m\u001b[0mi\u001b[0m\u001b[0;34m,\u001b[0m \u001b[0mcollect\u001b[0m\u001b[0;34m=\u001b[0m\u001b[0;34m(\u001b[0m\u001b[0;34m)\u001b[0m\u001b[0;34m,\u001b[0m \u001b[0mindicesNotNumbers\u001b[0m\u001b[0;34m=\u001b[0m\u001b[0;32mTrue\u001b[0m\u001b[0;34m)\u001b[0m\u001b[0;34m\u001b[0m\u001b[0;34m\u001b[0m\u001b[0m\n\u001b[1;32m   6281\u001b[0m                 \u001b[0;32mif\u001b[0m \u001b[0mmeasurePart\u001b[0m \u001b[0;32mis\u001b[0m \u001b[0;32mnot\u001b[0m \u001b[0;32mNone\u001b[0m\u001b[0;34m:\u001b[0m\u001b[0;34m\u001b[0m\u001b[0;34m\u001b[0m\u001b[0m\n\u001b[0;32m-> 6282\u001b[0;31m                     \u001b[0mchordifyOneMeasure\u001b[0m\u001b[0;34m(\u001b[0m\u001b[0mtemplateMeasure\u001b[0m\u001b[0;34m,\u001b[0m \u001b[0mmeasurePart\u001b[0m\u001b[0;34m)\u001b[0m\u001b[0;34m\u001b[0m\u001b[0;34m\u001b[0m\u001b[0m\n\u001b[0m\u001b[1;32m   6283\u001b[0m                 \u001b[0;32melse\u001b[0m\u001b[0;34m:\u001b[0m\u001b[0;34m\u001b[0m\u001b[0;34m\u001b[0m\u001b[0m\n\u001b[1;32m   6284\u001b[0m                     \u001b[0menvironLocal\u001b[0m\u001b[0;34m.\u001b[0m\u001b[0mwarn\u001b[0m\u001b[0;34m(\u001b[0m\u001b[0;34mf'Malformed Part object, {workObj}, at measure index {i}'\u001b[0m\u001b[0;34m)\u001b[0m\u001b[0;34m\u001b[0m\u001b[0;34m\u001b[0m\u001b[0m\n",
      "\u001b[0;32m~/opt/anaconda3/lib/python3.9/site-packages/music21/stream/base.py\u001b[0m in \u001b[0;36mchordifyOneMeasure\u001b[0;34m(templateInner, streamToChordify)\u001b[0m\n\u001b[1;32m   6216\u001b[0m                     )\n\u001b[1;32m   6217\u001b[0m \u001b[0;34m\u001b[0m\u001b[0m\n\u001b[0;32m-> 6218\u001b[0;31m                 chordOrRest = vert.makeElement(quarterLength,\n\u001b[0m\u001b[1;32m   6219\u001b[0m                                                \u001b[0maddTies\u001b[0m\u001b[0;34m=\u001b[0m\u001b[0maddTies\u001b[0m\u001b[0;34m,\u001b[0m\u001b[0;34m\u001b[0m\u001b[0;34m\u001b[0m\u001b[0m\n\u001b[1;32m   6220\u001b[0m                                                \u001b[0maddPartIdAsGroup\u001b[0m\u001b[0;34m=\u001b[0m\u001b[0maddPartIdAsGroup\u001b[0m\u001b[0;34m,\u001b[0m\u001b[0;34m\u001b[0m\u001b[0;34m\u001b[0m\u001b[0m\n",
      "\u001b[0;32m~/opt/anaconda3/lib/python3.9/site-packages/music21/tree/verticality.py\u001b[0m in \u001b[0;36mmakeElement\u001b[0;34m(self, quarterLength, addTies, addPartIdAsGroup, removeRedundantPitches, gatherArticulations, gatherExpressions, copyPitches)\u001b[0m\n\u001b[1;32m    885\u001b[0m                         \u001b[0mconditionalAdd\u001b[0m\u001b[0;34m(\u001b[0m\u001b[0mtimeSpan\u001b[0m\u001b[0;34m,\u001b[0m \u001b[0msubEl\u001b[0m\u001b[0;34m)\u001b[0m\u001b[0;34m\u001b[0m\u001b[0;34m\u001b[0m\u001b[0m\n\u001b[1;32m    886\u001b[0m             \u001b[0;32melse\u001b[0m\u001b[0;34m:\u001b[0m\u001b[0;34m\u001b[0m\u001b[0;34m\u001b[0m\u001b[0m\n\u001b[0;32m--> 887\u001b[0;31m                 \u001b[0mconditionalAdd\u001b[0m\u001b[0;34m(\u001b[0m\u001b[0mtimeSpan\u001b[0m\u001b[0;34m,\u001b[0m \u001b[0mel\u001b[0m\u001b[0;34m)\u001b[0m\u001b[0;34m\u001b[0m\u001b[0;34m\u001b[0m\u001b[0m\n\u001b[0m\u001b[1;32m    888\u001b[0m \u001b[0;34m\u001b[0m\u001b[0m\n\u001b[1;32m    889\u001b[0m         \u001b[0mseenArticulations\u001b[0m \u001b[0;34m=\u001b[0m \u001b[0mset\u001b[0m\u001b[0;34m(\u001b[0m\u001b[0;34m)\u001b[0m\u001b[0;34m\u001b[0m\u001b[0;34m\u001b[0m\u001b[0m\n",
      "\u001b[0;32m~/opt/anaconda3/lib/python3.9/site-packages/music21/tree/verticality.py\u001b[0m in \u001b[0;36mconditionalAdd\u001b[0;34m(ts, n)\u001b[0m\n\u001b[1;32m    812\u001b[0m \u001b[0;34m\u001b[0m\u001b[0m\n\u001b[1;32m    813\u001b[0m             \u001b[0;32mnonlocal\u001b[0m \u001b[0mpitchBust\u001b[0m  \u001b[0;31m# love Py3!!!\u001b[0m\u001b[0;34m\u001b[0m\u001b[0;34m\u001b[0m\u001b[0m\n\u001b[0;32m--> 814\u001b[0;31m             \u001b[0mp\u001b[0m \u001b[0;34m=\u001b[0m \u001b[0mn\u001b[0m\u001b[0;34m.\u001b[0m\u001b[0mpitch\u001b[0m\u001b[0;34m\u001b[0m\u001b[0;34m\u001b[0m\u001b[0m\n\u001b[0m\u001b[1;32m    815\u001b[0m             \u001b[0mpitchKey\u001b[0m \u001b[0;34m=\u001b[0m \u001b[0mp\u001b[0m\u001b[0;34m.\u001b[0m\u001b[0mnameWithOctave\u001b[0m\u001b[0;34m\u001b[0m\u001b[0;34m\u001b[0m\u001b[0m\n\u001b[1;32m    816\u001b[0m \u001b[0;34m\u001b[0m\u001b[0m\n",
      "\u001b[0;31mAttributeError\u001b[0m: 'Unpitched' object has no attribute 'pitch'"
     ]
    }
   ],
   "source": [
    "nice = parts.chordify()"
   ]
  },
  {
   "cell_type": "code",
   "execution_count": null,
   "id": "e9ec197c",
   "metadata": {},
   "outputs": [],
   "source": [
    "for element in nice[1]:\n",
    "    print(element)"
   ]
  },
  {
   "cell_type": "code",
   "execution_count": null,
   "id": "bf1d2845",
   "metadata": {},
   "outputs": [],
   "source": [
    "# Loop through each part\n",
    "for i, part in enumerate(parts):\n",
    "    # Initialize lists to store chord and duration information for this part\n",
    "    chord_list = []\n",
    "    duration_list = []\n",
    "\n",
    "    # Get all chords and their durations\n",
    "    chords = part.flat.getElementsByClass(music21.chord.Chord)\n",
    "\n",
    "    # Loop through each chord and append its pitches and duration to lists\n",
    "    for chord in chords:\n",
    "        chord_list.append(chord.pitchedCommonName)\n",
    "        duration_list.append(chord.duration.quarterLength)\n",
    "\n",
    "    # Store chord and duration lists in dictionaries for this part\n",
    "    part_chords[f'Part {i+1}'] = chord_list\n",
    "    part_durations[f'Part {i+1}'] = duration_list\n"
   ]
  },
  {
   "cell_type": "code",
   "execution_count": null,
   "id": "d509f780",
   "metadata": {},
   "outputs": [],
   "source": []
  }
 ],
 "metadata": {
  "kernelspec": {
   "display_name": "Python 3 (ipykernel)",
   "language": "python",
   "name": "python3"
  },
  "language_info": {
   "codemirror_mode": {
    "name": "ipython",
    "version": 3
   },
   "file_extension": ".py",
   "mimetype": "text/x-python",
   "name": "python",
   "nbconvert_exporter": "python",
   "pygments_lexer": "ipython3",
   "version": "3.9.13"
  }
 },
 "nbformat": 4,
 "nbformat_minor": 5
}

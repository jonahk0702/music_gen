{
 "cells": [
  {
   "cell_type": "markdown",
   "id": "1041ddd1",
   "metadata": {},
   "source": [
    "## Slides For DSS Project"
   ]
  },
  {
   "cell_type": "code",
   "execution_count": null,
   "id": "cfe80a3a",
   "metadata": {},
   "outputs": [],
   "source": [
    "## Using the Lakh MIDI Dataset Clean  from Kaggle:\n",
    "\n",
    "https://www.kaggle.com/datasets/imsparsh/lakh-midi-clean/discussion?resource=download\n"
   ]
  },
  {
   "cell_type": "markdown",
   "id": "a61533fa",
   "metadata": {},
   "source": [
    "#### Importing required modules"
   ]
  },
  {
   "cell_type": "code",
   "execution_count": null,
   "id": "8948a05c",
   "metadata": {},
   "outputs": [],
   "source": [
    "import os\n",
    "import random\n",
    "import music21"
   ]
  },
  {
   "cell_type": "markdown",
   "id": "3825aade",
   "metadata": {},
   "source": [
    "#### Music 21\n",
    "https://github.com/cuthbertLab/music21 (pip install music21)"
   ]
  },
  {
   "cell_type": "code",
   "execution_count": null,
   "id": "f7522141",
   "metadata": {},
   "outputs": [],
   "source": []
  },
  {
   "cell_type": "markdown",
   "id": "5c6d505a",
   "metadata": {},
   "source": [
    "#### Defining a function to extract the melody and chord progression from the midi files"
   ]
  },
  {
   "cell_type": "code",
   "execution_count": null,
   "id": "5de737a7",
   "metadata": {},
   "outputs": [],
   "source": [
    "def extract_features(filename):\n",
    "    # Load the MIDI file into a music21 Stream object\n",
    "    midi = music21.converter.parse(filename)\n",
    "    \n",
    "    # Extract the melody from the MIDI file\n",
    "    melody = midi.parts[0].flat.notes\n",
    "    \n",
    "    # Extract the chord progression from the MIDI file\n",
    "    chords = []\n",
    "    for measure in midi.parts[1].measures(1, len(midi.parts[1])):\n",
    "        chord = measure.chordify()\n",
    "        chords.extend(chord.flat.getElementsByClass(music21.chord.Chord))\n",
    "    \n",
    "    return melody, chords"
   ]
  },
  {
   "cell_type": "markdown",
   "id": "1afafe56",
   "metadata": {},
   "source": [
    "#### Get features from midi dataset"
   ]
  },
  {
   "cell_type": "code",
   "execution_count": null,
   "id": "8a6f62fe",
   "metadata": {},
   "outputs": [],
   "source": [
    "midi_dir = \"path/to/midi/files\"\n",
    "\n",
    "old_music = []\n",
    "for file in os.listdir(midi_dir):\n",
    "    if file.endswith(\".mid\") or file.endswith(\".midi\"):\n",
    "        filename = os.path.join(midi_dir, file)\n",
    "        melody, chords = extract_features(filename)\n",
    "        sequence = [note.nameWithOctave for note in melody] + [chord.normalOrder for chord in chords]\n",
    "        old_music.append(sequence)"
   ]
  },
  {
   "cell_type": "markdown",
   "id": "51e8f496",
   "metadata": {},
   "source": [
    "#### Define Fitness Function(s)\n",
    "- Different functions can be used to generate different outcomes"
   ]
  },
  {
   "cell_type": "code",
   "execution_count": null,
   "id": "1297920a",
   "metadata": {},
   "outputs": [],
   "source": [
    "def evaluate_fitness(sequence):\n",
    "    # Compute the number of matching notes and chords between the generated sequence and the original music\n",
    "    matches = sum(1 for note in sequence if note in old_music)\n",
    "    \n",
    "    # Compute the total length of the generated sequence and the original music\n",
    "    total_length = len(sequence) + sum(len(s) for s in old_music)\n",
    "    \n",
    "    # Compute the fitness score as the ratio of matching notes and chords to the total length\n",
    "    fitness_score = matches / total_length\n",
    "    \n",
    "    return fitness_score\n",
    "\n",
    "\n",
    "def calculate_fitness(population):\n",
    "    \"\"\"\n",
    "    Calculate the fitness score for each individual in the population\n",
    "    \"\"\"\n",
    "    fitness_scores = []\n",
    "    for individual in population:\n",
    "        # Convert the individual to a music sequence\n",
    "        sequence = individual_to_sequence(individual)\n",
    "        \n",
    "        # Evaluate the fitness of the sequence using the evaluate_fitness() function\n",
    "        fitness_score = evaluate_fitness(sequence)\n",
    "        \n",
    "        # Append the fitness score to the list of fitness scores\n",
    "        fitness_scores.append(fitness_score)\n",
    "        \n",
    "    return fitness_scores"
   ]
  },
  {
   "cell_type": "code",
   "execution_count": null,
   "id": "49e479bf",
   "metadata": {},
   "outputs": [],
   "source": []
  }
 ],
 "metadata": {
  "kernelspec": {
   "display_name": "Python 3 (ipykernel)",
   "language": "python",
   "name": "python3"
  },
  "language_info": {
   "codemirror_mode": {
    "name": "ipython",
    "version": 3
   },
   "file_extension": ".py",
   "mimetype": "text/x-python",
   "name": "python",
   "nbconvert_exporter": "python",
   "pygments_lexer": "ipython3",
   "version": "3.9.13"
  }
 },
 "nbformat": 4,
 "nbformat_minor": 5
}

{
 "cells": [
  {
   "cell_type": "markdown",
   "id": "0feee37b",
   "metadata": {},
   "source": [
    "## Slides For DSS Project - THis is PAin"
   ]
  },
  {
   "cell_type": "markdown",
   "id": "54baa867",
   "metadata": {},
   "source": [
    "## Using the Lakh MIDI Dataset Clean  from Kaggle:\n",
    "\n",
    "https://www.kaggle.com/datasets/imsparsh/lakh-midi-clean/discussion?resource=download\n",
    "\n",
    "    - This can be changed later to give you different results... stay tuned\n"
   ]
  },
  {
   "cell_type": "markdown",
   "id": "4647d826",
   "metadata": {},
   "source": [
    "### What is a genetic algoryhm and what are the steps involved? \n",
    "https://www.youtube.com/watch?v=uQj5UNhCPuo&t=451s \n",
    "\n",
    "- Genetic representation of the solution\n",
    "- Function to generate new solutions\n",
    "- Fitness function\n",
    "- Selection Function\n",
    "- Crossover Function\n",
    "- Mutation Function"
   ]
  },
  {
   "cell_type": "markdown",
   "id": "53990e0b",
   "metadata": {},
   "source": [
    "### What are the steps in a data science project?\n",
    "\n",
    "\n"
   ]
  },
  {
   "cell_type": "markdown",
   "id": "bce73689",
   "metadata": {},
   "source": [
    "#### Importing required modules"
   ]
  },
  {
   "cell_type": "code",
   "execution_count": 1,
   "id": "a177d097",
   "metadata": {},
   "outputs": [],
   "source": [
    "import os\n",
    "import random\n",
    "import music21\n",
    "from music21 import stream, duration, midi"
   ]
  },
  {
   "cell_type": "markdown",
   "id": "a1e6a494",
   "metadata": {},
   "source": [
    "#### Music 21\n",
    "https://github.com/cuthbertLab/music21 (pip install music21)"
   ]
  },
  {
   "cell_type": "markdown",
   "id": "e357f850",
   "metadata": {},
   "source": [
    "#### Defining a function to extract the melody and chord progression from the midi files"
   ]
  },
  {
   "cell_type": "code",
   "execution_count": 2,
   "id": "1f16bfa6",
   "metadata": {},
   "outputs": [],
   "source": [
    "def extract_features(filename):\n",
    "    # Load the MIDI file into a music21 Stream object\n",
    "    midi = music21.converter.parse(filename)\n",
    "    \n",
    "    # Extract the melody from the MIDI file\n",
    "    melody = midi.parts[0].flat.notes\n",
    "    \n",
    "    # Extract the chord progression from the MIDI file\n",
    "    chords = []\n",
    "    for measure in midi.parts[1].measures(1, len(midi.parts[1])):\n",
    "        chord = measure.chordify()\n",
    "        chords.extend(chord.flat.getElementsByClass(music21.chord.Chord))\n",
    "    \n",
    "    return melody, chords"
   ]
  },
  {
   "cell_type": "markdown",
   "id": "ab4010c9",
   "metadata": {},
   "source": [
    "#### Get features from midi dataset"
   ]
  },
  {
   "cell_type": "code",
   "execution_count": 3,
   "id": "3a533db3",
   "metadata": {},
   "outputs": [],
   "source": [
    "midi_dir = \"music_gen/data/midi_dataset/ABBA\"\n",
    "\n",
    "old_music = []\n",
    "for file in os.listdir(midi_dir):\n",
    "    if file.endswith(\".mid\") or file.endswith(\".midi\"):\n",
    "    filename = os.path.join(midi_dir, file)\n",
    "    midi = music21.converter.parse(filename)\n",
    "    if len(midi.parts) == 2:\n",
    "        melody, chords = extract_features(filename)\n",
    "        sequence = [note.nameWithOctave for note in melody] + [chord.normalOrder for chord in chords]\n",
    "        old_music.append(sequence)\n",
    "    else:\n",
    "        print(f\"{filename} does not have the expected number of parts.\")"
   ]
  },
  {
   "cell_type": "markdown",
   "id": "b13982ae",
   "metadata": {},
   "source": [
    "#### Define Fitness Function(s)\n",
    "- Different functions can be used to generate different outcomes"
   ]
  },
  {
   "cell_type": "code",
   "execution_count": 4,
   "id": "0f2fc4d3",
   "metadata": {},
   "outputs": [],
   "source": [
    "def evaluate_fitness(sequence):\n",
    "    # Compute the number of matching notes and chords between the generated sequence and the original music\n",
    "    matches = sum(1 for note in sequence if note in old_music)\n",
    "    \n",
    "    # Compute the total length of the generated sequence and the original music\n",
    "    total_length = len(sequence) + sum(len(s) for s in old_music)\n",
    "    \n",
    "    # Check if total_length is greater than zero to avoid zero division error\n",
    "    if total_length > 0:\n",
    "        # Compute the fitness score as the ratio of matching notes and chords to the total length\n",
    "        fitness_score = matches / total_length\n",
    "    else:\n",
    "        # If total_length is zero, set the fitness score to zero\n",
    "        fitness_score = 0\n",
    "        \n",
    "    return fitness_score\n",
    "\n",
    "\n",
    "def calculate_fitness(population):\n",
    "    \"\"\"\n",
    "    Calculate the fitness score for each individual in the population\n",
    "    \"\"\"\n",
    "    fitness_scores = []\n",
    "    for individual in population:\n",
    "        # Convert the individual to a music sequence\n",
    "        sequence = individual_to_sequence(individual)\n",
    "        \n",
    "        # Evaluate the fitness of the sequence using the evaluate_fitness() function\n",
    "        fitness_score = evaluate_fitness(sequence)\n",
    "        \n",
    "        # Append the fitness score to the list of fitness scores\n",
    "        fitness_scores.append(fitness_score)\n",
    "        \n",
    "    return fitness_scores"
   ]
  },
  {
   "cell_type": "markdown",
   "id": "37e26662",
   "metadata": {},
   "source": [
    "### Starting Genetic Algorythm"
   ]
  },
  {
   "cell_type": "code",
   "execution_count": 5,
   "id": "1d33b9fd",
   "metadata": {},
   "outputs": [],
   "source": [
    "#### Function and parameters to generate random music"
   ]
  },
  {
   "cell_type": "code",
   "execution_count": 6,
   "id": "317334ec",
   "metadata": {},
   "outputs": [],
   "source": [
    "POPULATION_SIZE = 100\n",
    "MUTATION_RATE = 0.1\n",
    "GENERATIONS = 50\n",
    "length = len(old_music)\n",
    "\n",
    "\n",
    "def generate_sequence(length):\n",
    "    sequence = [random.choice(old_music) for j in range(length)]\n",
    "    return sequence\n",
    "\n",
    "def generate_population(length):\n",
    "    population = []\n",
    "    for i in range(POPULATION_SIZE):\n",
    "        sequence = generate_sequence(length)\n",
    "        population.append(sequence)\n",
    "        \n",
    "    population = [generate_sequence() for i in range(POPULATION_SIZE)]\n",
    "    while not population:  # Check if population is empty\n",
    "        population = [generate_sequence() for i in range(POPULATION_SIZE)]\n",
    "\n",
    "    return population"
   ]
  },
  {
   "cell_type": "markdown",
   "id": "7a7f70a6",
   "metadata": {},
   "source": [
    "#### Selection function"
   ]
  },
  {
   "cell_type": "code",
   "execution_count": 7,
   "id": "f6f46922",
   "metadata": {},
   "outputs": [],
   "source": [
    "def select_top_performers(population, fitness_fn):\n",
    "    # Sort the population by fitness score\n",
    "    sorted_population = sorted(population, key=fitness_fn, reverse=True)\n",
    "    # Select the top performers to be parents for the next generation\n",
    "    top_performers = sorted_population[:int(POPULATION_SIZE/2)]\n",
    "    return top_performers"
   ]
  },
  {
   "cell_type": "markdown",
   "id": "72f521b0",
   "metadata": {},
   "source": [
    "#### Crossover function"
   ]
  },
  {
   "cell_type": "code",
   "execution_count": 8,
   "id": "a7fa0553",
   "metadata": {},
   "outputs": [],
   "source": [
    "# Define a function to perform crossover between parents to create offspring\n",
    "def crossover(parent1, parent2):\n",
    "    # Implement crossover logic here\n",
    "    # Example crossover function that randomly selects notes from each parent to create an offspring:\n",
    "    offspring = []\n",
    "    for i in range(len(parent1)):\n",
    "        if random.random() < 0.5:\n",
    "            offspring.append(parent1[i])\n",
    "        else:\n",
    "            offspring.append(parent2[i])\n",
    "    return offspring"
   ]
  },
  {
   "cell_type": "markdown",
   "id": "e96749e5",
   "metadata": {},
   "source": [
    "#### Mutation Function"
   ]
  },
  {
   "cell_type": "code",
   "execution_count": 9,
   "id": "a3f6fa8a",
   "metadata": {},
   "outputs": [],
   "source": [
    "def mutate(sequence):\n",
    "    # Implement mutation logic here\n",
    "    # Example mutation function that randomly changes a note in the sequence:\n",
    "    if random.random() < MUTATION_RATE:\n",
    "        index = random.randint(0, len(sequence)-1)\n",
    "        sequence[index] = random.choice(old_music)\n",
    "    return sequence"
   ]
  },
  {
   "cell_type": "markdown",
   "id": "fffdc65e",
   "metadata": {},
   "source": [
    "#### Implementation"
   ]
  },
  {
   "cell_type": "code",
   "execution_count": 11,
   "id": "a5f56b76",
   "metadata": {},
   "outputs": [
    {
     "ename": "TypeError",
     "evalue": "generate_sequence() missing 1 required positional argument: 'length'",
     "output_type": "error",
     "traceback": [
      "\u001b[0;31m---------------------------------------------------------------------------\u001b[0m",
      "\u001b[0;31mTypeError\u001b[0m                                 Traceback (most recent call last)",
      "\u001b[0;32m/var/folders/5v/khx63py14cb1kzdxlxgh37th0000gn/T/ipykernel_36187/3737927166.py\u001b[0m in \u001b[0;36m<module>\u001b[0;34m\u001b[0m\n\u001b[0;32m----> 1\u001b[0;31m \u001b[0mpopulation\u001b[0m \u001b[0;34m=\u001b[0m \u001b[0mgenerate_population\u001b[0m\u001b[0;34m(\u001b[0m\u001b[0mlength\u001b[0m\u001b[0;34m=\u001b[0m\u001b[0mlen\u001b[0m\u001b[0;34m(\u001b[0m\u001b[0mold_music\u001b[0m\u001b[0;34m)\u001b[0m\u001b[0;34m)\u001b[0m\u001b[0;34m\u001b[0m\u001b[0;34m\u001b[0m\u001b[0m\n\u001b[0m\u001b[1;32m      2\u001b[0m \u001b[0;34m\u001b[0m\u001b[0m\n\u001b[1;32m      3\u001b[0m \u001b[0;32mfor\u001b[0m \u001b[0mgeneration\u001b[0m \u001b[0;32min\u001b[0m \u001b[0mrange\u001b[0m\u001b[0;34m(\u001b[0m\u001b[0mGENERATIONS\u001b[0m\u001b[0;34m)\u001b[0m\u001b[0;34m:\u001b[0m\u001b[0;34m\u001b[0m\u001b[0;34m\u001b[0m\u001b[0m\n\u001b[1;32m      4\u001b[0m     \u001b[0;31m# Evaluate the fitness of each sequence in the population\u001b[0m\u001b[0;34m\u001b[0m\u001b[0;34m\u001b[0m\u001b[0m\n\u001b[1;32m      5\u001b[0m     \u001b[0mfitness_scores\u001b[0m \u001b[0;34m=\u001b[0m \u001b[0;34m[\u001b[0m\u001b[0mevaluate_fitness\u001b[0m\u001b[0;34m(\u001b[0m\u001b[0msequence\u001b[0m\u001b[0;34m)\u001b[0m \u001b[0;32mfor\u001b[0m \u001b[0msequence\u001b[0m \u001b[0;32min\u001b[0m \u001b[0mpopulation\u001b[0m\u001b[0;34m]\u001b[0m\u001b[0;34m\u001b[0m\u001b[0;34m\u001b[0m\u001b[0m\n",
      "\u001b[0;32m/var/folders/5v/khx63py14cb1kzdxlxgh37th0000gn/T/ipykernel_36187/1602643199.py\u001b[0m in \u001b[0;36mgenerate_population\u001b[0;34m(length)\u001b[0m\n\u001b[1;32m     15\u001b[0m         \u001b[0mpopulation\u001b[0m\u001b[0;34m.\u001b[0m\u001b[0mappend\u001b[0m\u001b[0;34m(\u001b[0m\u001b[0msequence\u001b[0m\u001b[0;34m)\u001b[0m\u001b[0;34m\u001b[0m\u001b[0;34m\u001b[0m\u001b[0m\n\u001b[1;32m     16\u001b[0m \u001b[0;34m\u001b[0m\u001b[0m\n\u001b[0;32m---> 17\u001b[0;31m     \u001b[0mpopulation\u001b[0m \u001b[0;34m=\u001b[0m \u001b[0;34m[\u001b[0m\u001b[0mgenerate_sequence\u001b[0m\u001b[0;34m(\u001b[0m\u001b[0;34m)\u001b[0m \u001b[0;32mfor\u001b[0m \u001b[0mi\u001b[0m \u001b[0;32min\u001b[0m \u001b[0mrange\u001b[0m\u001b[0;34m(\u001b[0m\u001b[0mPOPULATION_SIZE\u001b[0m\u001b[0;34m)\u001b[0m\u001b[0;34m]\u001b[0m\u001b[0;34m\u001b[0m\u001b[0;34m\u001b[0m\u001b[0m\n\u001b[0m\u001b[1;32m     18\u001b[0m     \u001b[0;32mwhile\u001b[0m \u001b[0;32mnot\u001b[0m \u001b[0mpopulation\u001b[0m\u001b[0;34m:\u001b[0m  \u001b[0;31m# Check if population is empty\u001b[0m\u001b[0;34m\u001b[0m\u001b[0;34m\u001b[0m\u001b[0m\n\u001b[1;32m     19\u001b[0m         \u001b[0mpopulation\u001b[0m \u001b[0;34m=\u001b[0m \u001b[0;34m[\u001b[0m\u001b[0mgenerate_sequence\u001b[0m\u001b[0;34m(\u001b[0m\u001b[0;34m)\u001b[0m \u001b[0;32mfor\u001b[0m \u001b[0mi\u001b[0m \u001b[0;32min\u001b[0m \u001b[0mrange\u001b[0m\u001b[0;34m(\u001b[0m\u001b[0mPOPULATION_SIZE\u001b[0m\u001b[0;34m)\u001b[0m\u001b[0;34m]\u001b[0m\u001b[0;34m\u001b[0m\u001b[0;34m\u001b[0m\u001b[0m\n",
      "\u001b[0;32m/var/folders/5v/khx63py14cb1kzdxlxgh37th0000gn/T/ipykernel_36187/1602643199.py\u001b[0m in \u001b[0;36m<listcomp>\u001b[0;34m(.0)\u001b[0m\n\u001b[1;32m     15\u001b[0m         \u001b[0mpopulation\u001b[0m\u001b[0;34m.\u001b[0m\u001b[0mappend\u001b[0m\u001b[0;34m(\u001b[0m\u001b[0msequence\u001b[0m\u001b[0;34m)\u001b[0m\u001b[0;34m\u001b[0m\u001b[0;34m\u001b[0m\u001b[0m\n\u001b[1;32m     16\u001b[0m \u001b[0;34m\u001b[0m\u001b[0m\n\u001b[0;32m---> 17\u001b[0;31m     \u001b[0mpopulation\u001b[0m \u001b[0;34m=\u001b[0m \u001b[0;34m[\u001b[0m\u001b[0mgenerate_sequence\u001b[0m\u001b[0;34m(\u001b[0m\u001b[0;34m)\u001b[0m \u001b[0;32mfor\u001b[0m \u001b[0mi\u001b[0m \u001b[0;32min\u001b[0m \u001b[0mrange\u001b[0m\u001b[0;34m(\u001b[0m\u001b[0mPOPULATION_SIZE\u001b[0m\u001b[0;34m)\u001b[0m\u001b[0;34m]\u001b[0m\u001b[0;34m\u001b[0m\u001b[0;34m\u001b[0m\u001b[0m\n\u001b[0m\u001b[1;32m     18\u001b[0m     \u001b[0;32mwhile\u001b[0m \u001b[0;32mnot\u001b[0m \u001b[0mpopulation\u001b[0m\u001b[0;34m:\u001b[0m  \u001b[0;31m# Check if population is empty\u001b[0m\u001b[0;34m\u001b[0m\u001b[0;34m\u001b[0m\u001b[0m\n\u001b[1;32m     19\u001b[0m         \u001b[0mpopulation\u001b[0m \u001b[0;34m=\u001b[0m \u001b[0;34m[\u001b[0m\u001b[0mgenerate_sequence\u001b[0m\u001b[0;34m(\u001b[0m\u001b[0;34m)\u001b[0m \u001b[0;32mfor\u001b[0m \u001b[0mi\u001b[0m \u001b[0;32min\u001b[0m \u001b[0mrange\u001b[0m\u001b[0;34m(\u001b[0m\u001b[0mPOPULATION_SIZE\u001b[0m\u001b[0;34m)\u001b[0m\u001b[0;34m]\u001b[0m\u001b[0;34m\u001b[0m\u001b[0;34m\u001b[0m\u001b[0m\n",
      "\u001b[0;31mTypeError\u001b[0m: generate_sequence() missing 1 required positional argument: 'length'"
     ]
    }
   ],
   "source": [
    "population = generate_population(length=len(old_music))\n",
    "\n",
    "for generation in range(GENERATIONS):\n",
    "    # Evaluate the fitness of each sequence in the population\n",
    "    fitness_scores = [evaluate_fitness(sequence) for sequence in population]\n",
    "    \n",
    "    # Select the top performers to be parents for the next generation\n",
    "    selected_top_performers = select_top_performers(population, evaluate_fitness)\n",
    "    \n",
    "    # Create the next generation by performing crossover and mutation on the parents\n",
    "    next_generation = selected_top_performers[:]\n",
    "\n",
    "    \n",
    "    while len(next_generation) < POPULATION_SIZE:\n",
    "        parent1 = random.choice(selected_top_performers)\n",
    "        parent2 = random.choice(selected_top_performers)\n",
    "        offspring = crossover(parent1, parent2)\n",
    "        offspring = mutate(offspring)\n",
    "        next_generation.append(offspring)\n",
    "    \n",
    "    # Replace the old population with the new one for the next generation\n",
    "    population = next_generation\n",
    "\n",
    "# Select the best sequence from the final generation\n",
    "best_sequence = max(population, key=evaluate_fitness)"
   ]
  },
  {
   "cell_type": "code",
   "execution_count": null,
   "id": "02e18344",
   "metadata": {},
   "outputs": [],
   "source": []
  },
  {
   "cell_type": "markdown",
   "id": "7698d8b1",
   "metadata": {},
   "source": [
    "#### Playing Output"
   ]
  },
  {
   "cell_type": "code",
   "execution_count": null,
   "id": "c7bab9ed",
   "metadata": {},
   "outputs": [],
   "source": [
    "def play_sequence(sequence):\n",
    "    # Create a new music stream\n",
    "    s = stream.Stream()\n",
    "\n",
    "    # Add each note or chord in the sequence to the stream\n",
    "    for note_or_chord in sequence:\n",
    "        # Create a new note or chord object from the string representation\n",
    "        n = music21.note.Note(note_or_chord)\n",
    "\n",
    "        # Set the duration of the note or chord to a quarter note\n",
    "        n.duration = duration.Duration(0.25)\n",
    "\n",
    "        # Add the note or chord to the stream\n",
    "        s.append(n)\n",
    "\n",
    "    # Save the stream as a MIDI file\n",
    "    s.write('midi', fp='generated_sequence.mid')\n",
    "\n",
    "    # Play the MIDI file using the default system player\n",
    "    midi.realtime.StreamPlayer(s).play()"
   ]
  },
  {
   "cell_type": "code",
   "execution_count": null,
   "id": "53e7dbda",
   "metadata": {},
   "outputs": [],
   "source": [
    "import os\n",
    "import random\n",
    "import music21\n",
    "from music21 import stream, duration, midi\n",
    "\n",
    "# Defining a function to extract the melody and chord progression from the midi files\n",
    "def extract_features(filename):\n",
    "    # Load the MIDI file into a music21 Stream object\n",
    "    midi = music21.converter.parse(filename)\n",
    "    \n",
    "    # Extract the melody from the MIDI file\n",
    "    melody = midi.parts[0].flat.notes\n",
    "    \n",
    "    # Extract the chord progression from the MIDI file\n",
    "    chords = []\n",
    "    for measure in midi.parts[1].measures(1, len(midi.parts[1])):\n",
    "        chord = measure.chordify()\n",
    "        chords.extend(chord.flat.getElementsByClass(music21.chord.Chord))\n",
    "    \n",
    "    return melody, chords\n",
    "\n",
    "# Get features from midi dataset\n",
    "midi_dir = \"music_gen/data/midi_dataset\"\n",
    "\n",
    "old_music = []\n",
    "for file in os.listdir(midi_dir):\n",
    "    if file.endswith(\".mid\") or file.endswith(\".midi\"):\n",
    "        filename = os.path.join(midi_dir, file)\n",
    "        melody, chords = extract_features(filename)\n",
    "        sequence = [note.nameWithOctave for note in melody] + [chord.normalOrder for chord in chords]\n",
    "        old_music.append(sequence)\n",
    "\n",
    "# Define Fitness Function(s)\n",
    "def evaluate_fitness(sequence):\n",
    "    # Compute the number of matching notes and chords between the generated sequence and the original music\n",
    "    matches = sum(1 for note in sequence if note in old_music)\n",
    "    \n",
    "    # Compute the total length of the generated sequence and the original music\n",
    "    total_length = len(sequence) + sum(len(s) for s in old_music)\n",
    "    \n",
    "    # Check if total_length is greater than zero to avoid zero division error\n",
    "    if total_length > 0:\n",
    "        # Compute the fitness score as the ratio of matching notes and chords to the total length\n",
    "        fitness_score = matches / total_length\n",
    "    else:\n",
    "        # If total_length is zero, set the fitness score to zero\n",
    "        fitness_score = 0\n",
    "        \n",
    "    return fitness_score\n",
    "\n",
    "def calculate_fitness(population):\n",
    "    \"\"\"\n",
    "    Calculate the fitness score for each individual in the population\n",
    "    \"\"\"\n",
    "    fitness_scores = []\n",
    "    for individual in population:\n",
    "        # Convert the individual to a music sequence\n",
    "        sequence = individual\n",
    "        # Evaluate the fitness of the sequence using the evaluate_fitness() function\n",
    "        fitness_score = evaluate_fitness(sequence)\n",
    "        \n",
    "        # Append the fitness score to the list of fitness scores\n",
    "        fitness_scores.append(fitness_score)\n",
    "        \n",
    "    return fitness_scores\n",
    "\n",
    "# Starting Genetic Algorithm\n",
    "POPULATION_SIZE = 100\n",
    "MUTATION_RATE = 0.1\n",
    "GENERATIONS = 50\n",
    "length = len(old_music)\n",
    "\n",
    "# Define function and parameters to generate random music\n",
    "def generate_sequence(length):\n",
    "    sequence = [random.choice(old_music) for j in range(length)]\n",
    "    return sequence\n",
    "\n",
    "def generate_population(length):\n",
    "    population = []\n",
    "    for i in range(POPULATION_SIZE):\n",
    "        sequence = generate_sequence(length)\n",
    "        population.append(sequence)\n",
    "\n",
    "    return population\n",
    "\n",
    "# Selection function\n",
    "def select_parents(population, fitness_fn):\n",
    "    # Sort the population based on fitness score in descending order\n",
    "    sorted_population = sorted(population, key=fitness_fn, reverse=True)\n",
    "    # Select the top performers to be parents for the next generation\n",
    "    top_performers = sorted_population[:int(len(sorted_population)/2)]\n",
    "    return top_performers\n",
    "\n",
    "# Crossover function\n",
    "def crossover(parent1, parent2):\n",
    "    # Combine the parents' sequences\n",
    "    combined_sequence = parent1 + parent2\n",
    "    # Randomly shuffle the combined sequence\n",
    "    random.shuffle(combined_sequence)\n",
    "    # Select a random crossover point\n",
    "    crossover_point = random.randint(1, len(parent1)-1)\n",
    "    # Perform crossover to create offspring\n",
    "    offspring1 = combined_sequence[:crossover_point] + parent1[crossover_point:]\n",
    "    offspring2 = combined_sequence[crossover_point:] + parent2[:crossover_point]\n",
    "    return offspring1, offspring2\n",
    "\n",
    "# Mutation function\n",
    "def mutate(sequence, mutation_rate):\n",
    "    # Check if sequence is empty and return as is\n",
    "    if len(sequence) == 0:\n",
    "        return sequence\n",
    "    # Determine number of mutations based on mutation rate\n",
    "    num_mutations = max(1, int(mutation_rate * len(sequence)))\n",
    "    # Randomly select positions to mutate\n",
    "    mutation_positions = random.sample(range(len(sequence)), num_mutations)\n",
    "    # Mutate selected positions\n",
    "    for position in mutation_positions:\n",
    "        sequence[position] = random.choice(NOTES)\n",
    "    return sequence\n",
    "    \n",
    "def run_genetic_algorithm(population_size, mutation_rate, generations):\n",
    "    # Generate initial population\n",
    "    population = generate_population(length)\n",
    "\n",
    "    # Iterate through generations\n",
    "    for i in range(generations):\n",
    "        # Calculate fitness scores for each individual\n",
    "        fitness_scores = calculate_fitness(population)\n",
    "\n",
    "        # Select parents for next generation\n",
    "        parents = select_parents(population, lambda x: evaluate_fitness(x))\n",
    "\n",
    "        # Create new population by performing crossover and mutation\n",
    "        offspring = []\n",
    "        for j in range(population_size - len(parents)):\n",
    "            parent1, parent2 = random.choices(parents, k=2)\n",
    "            child1, child2 = crossover(parent1, parent2)\n",
    "            if random.random() < mutation_rate:\n",
    "                child1 = mutate(child1)\n",
    "            if random.random() < mutation_rate:\n",
    "                child2 = mutate(child2)\n",
    "            offspring.append(child1)\n",
    "            offspring.append(child2)\n",
    "\n",
    "        # Combine parents and offspring to form next generation\n",
    "        population = parents + offspring\n",
    "\n",
    "    # Calculate fitness scores for final population\n",
    "    fitness_scores = calculate_fitness(population)\n",
    "\n",
    "    # Select the best individual in the final population\n",
    "    best_individual = max(population, key=lambda x: evaluate_fitness(x))\n",
    "\n",
    "    return best_individual    \n",
    "    \n",
    "    \n",
    "    \n",
    "    \n",
    "    \n",
    "    \n",
    "    "
   ]
  },
  {
   "cell_type": "code",
   "execution_count": null,
   "id": "671387e2",
   "metadata": {},
   "outputs": [],
   "source": [
    "def genetic_algorithm(target_sequence, population_size, fitness_fn, mutation_rate):\n",
    "    # Initialize the population with random sequences\n",
    "    population = [generate_random_sequence(len(target_sequence)) for i in range(population_size)]\n",
    "    generation = 0\n",
    "    while True:\n",
    "        # Evaluate the fitness of each sequence in the population\n",
    "        fitness_scores = [fitness_fn(sequence, target_sequence) for sequence in population]\n",
    "        # Check if we have found the target sequence\n",
    "        if max(fitness_scores) == len(target_sequence):\n",
    "            return population[fitness_scores.index(max(fitness_scores))]\n",
    "        # Select the top performers to be parents for the next generation\n",
    "        selected_top_performers = select_parents(population, fitness_fn)\n",
    "        # Create the next generation by performing crossover and mutation on the selected top performers\n",
    "        next_generation = []\n",
    "        for i in range(0, len(selected_top_performers), 2):\n",
    "            parent1 = selected_top_performers[i]\n",
    "            parent2 = selected_top_performers[i+1]\n",
    "            offspring1, offspring2 = crossover(parent1, parent2)\n",
    "            next_generation.append(offspring1)\n",
    "            next_generation.append(offspring2)\n",
    "        # Perform mutation on the offspring\n",
    "        for i in range(len(next_generation)):\n",
    "            if random.random"
   ]
  },
  {
   "cell_type": "code",
   "execution_count": null,
   "id": "d6108609",
   "metadata": {},
   "outputs": [],
   "source": [
    "# Starting Genetic Algorithm\n",
    "POPULATION_SIZE = 100\n",
    "MUTATION_RATE = 0.1\n",
    "GENERATIONS = 50\n",
    "length = len(old_music)\n",
    "\n",
    "# Generate initial population\n",
    "population = generate_population(length)\n",
    "\n",
    "# Iterate over the specified number of generations\n",
    "for i in range(GENERATIONS):\n",
    "    print(\"Generation \", i+1)\n",
    "    \n",
    "    # Evaluate the fitness of each individual in the population\n",
    "    fitness_scores = calculate_fitness(population)\n",
    "    \n",
    "    # Select the top performers to be parents for the next generation\n",
    "    parents = select_parents(population, lambda i: fitness_scores[population.index(i)])\n",
    "    \n",
    "    # Create the next generation through crossover and mutation\n",
    "    offspring = []\n",
    "    while len(offspring) < POPULATION_SIZE:\n",
    "        # Select two parents from the parent pool\n",
    "        parent1, parent2 = random.sample(parents, 2)\n",
    "        \n",
    "        # Perform crossover to create two offspring\n",
    "        offspring1, offspring2 = crossover(parent1, parent2)\n",
    "        \n",
    "        # Mutate the offspring with a certain probability\n",
    "        if random.random() < MUTATION_RATE:\n",
    "            offspring1 = mutate(offspring1)\n",
    "        if random.random() < MUTATION_RATE:\n",
    "            offspring2 = mutate(offspring2)\n",
    "        \n",
    "        # Add the offspring to the new population"
   ]
  }
 ],
 "metadata": {
  "kernelspec": {
   "display_name": "Python 3 (ipykernel)",
   "language": "python",
   "name": "python3"
  },
  "language_info": {
   "codemirror_mode": {
    "name": "ipython",
    "version": 3
   },
   "file_extension": ".py",
   "mimetype": "text/x-python",
   "name": "python",
   "nbconvert_exporter": "python",
   "pygments_lexer": "ipython3",
   "version": "3.9.13"
  }
 },
 "nbformat": 4,
 "nbformat_minor": 5
}

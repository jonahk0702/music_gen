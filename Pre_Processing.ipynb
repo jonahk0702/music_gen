{
 "cells": [
  {
   "cell_type": "markdown",
   "id": "a533c0e3",
   "metadata": {},
   "source": [
    "1. get notes\n",
    "2. do genetic algorythm with notes\n",
    "3. Have optimal list of notes that "
   ]
  }
 ],
 "metadata": {
  "kernelspec": {
   "display_name": "Python 3 (ipykernel)",
   "language": "python",
   "name": "python3"
  },
  "language_info": {
   "codemirror_mode": {
    "name": "ipython",
    "version": 3
   },
   "file_extension": ".py",
   "mimetype": "text/x-python",
   "name": "python",
   "nbconvert_exporter": "python",
   "pygments_lexer": "ipython3",
   "version": "3.9.13"
  }
 },
 "nbformat": 4,
 "nbformat_minor": 5
}
